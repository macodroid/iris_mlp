{
 "cells": [
  {
   "cell_type": "code",
   "execution_count": 1,
   "metadata": {
    "tags": []
   },
   "outputs": [],
   "source": [
    "import numpy as np"
   ]
  },
  {
   "cell_type": "code",
   "execution_count": 2,
   "metadata": {
    "collapsed": false,
    "jupyter": {
     "outputs_hidden": false
    },
    "pycharm": {
     "name": "#%%\n"
    }
   },
   "outputs": [],
   "source": [
    "train = np.loadtxt('2d.trn.dat', dtype=str)"
   ]
  },
  {
   "cell_type": "code",
   "execution_count": 3,
   "metadata": {},
   "outputs": [],
   "source": [
    "train = train[1:]"
   ]
  },
  {
   "cell_type": "code",
   "execution_count": 4,
   "metadata": {},
   "outputs": [],
   "source": [
    "features_train = train[:,:-1].astype(float)"
   ]
  },
  {
   "cell_type": "code",
   "execution_count": 5,
   "metadata": {},
   "outputs": [
    {
     "data": {
      "text/plain": [
       "array([[ 9.31 , 48.289],\n",
       "       [13.364, 49.943],\n",
       "       [ 2.301, 75.125],\n",
       "       ...,\n",
       "       [17.546, 77.528],\n",
       "       [-1.829, 54.649],\n",
       "       [-4.023, 33.008]])"
      ]
     },
     "execution_count": 5,
     "metadata": {},
     "output_type": "execute_result"
    }
   ],
   "source": [
    "features_train"
   ]
  },
  {
   "cell_type": "code",
   "execution_count": 6,
   "metadata": {},
   "outputs": [],
   "source": [
    "target_train = train[:,-1:]"
   ]
  },
  {
   "cell_type": "code",
   "execution_count": 7,
   "metadata": {},
   "outputs": [
    {
     "data": {
      "text/plain": [
       "array([['C'],\n",
       "       ['C'],\n",
       "       ['B'],\n",
       "       ...,\n",
       "       ['C'],\n",
       "       ['A'],\n",
       "       ['C']], dtype='<U7')"
      ]
     },
     "execution_count": 7,
     "metadata": {},
     "output_type": "execute_result"
    }
   ],
   "source": [
    "target_train"
   ]
  },
  {
   "cell_type": "code",
   "execution_count": 8,
   "metadata": {
    "collapsed": false,
    "jupyter": {
     "outputs_hidden": false
    },
    "pycharm": {
     "name": "#%%\n"
    }
   },
   "outputs": [
    {
     "data": {
      "text/plain": [
       "array([[ 9.31 , 48.289],\n",
       "       [13.364, 49.943],\n",
       "       [ 2.301, 75.125],\n",
       "       ...,\n",
       "       [17.546, 77.528],\n",
       "       [-1.829, 54.649],\n",
       "       [-4.023, 33.008]])"
      ]
     },
     "execution_count": 8,
     "metadata": {},
     "output_type": "execute_result"
    }
   ],
   "source": [
    "features_train"
   ]
  },
  {
   "cell_type": "code",
   "execution_count": 23,
   "metadata": {
    "collapsed": false,
    "jupyter": {
     "outputs_hidden": false
    },
    "pycharm": {
     "name": "#%%\n"
    }
   },
   "outputs": [],
   "source": [
    "import random\n",
    "\n",
    "\n",
    "def split_train_validation(X, y):\n",
    "    indices = np.arange(X.shape[0], dtype=int)\n",
    "    random.shuffle(indices)\n",
    "    split = int(0.8 * X.shape[0])\n",
    "    train_indices = indices[:split]\n",
    "    val_indices = indices[split:]\n",
    "\n",
    "    train_features = X[:, train_indices]\n",
    "    train_labels = y[:, train_indices]\n",
    "\n",
    "    val_features = X[:, val_indices]\n",
    "    val_labels = y[:,val_indices]\n",
    "    return train_features,train_labels,val_features,val_labels"
   ]
  },
  {
   "cell_type": "code",
   "execution_count": 16,
   "metadata": {
    "collapsed": false,
    "jupyter": {
     "outputs_hidden": false
    },
    "pycharm": {
     "name": "#%%\n"
    }
   },
   "outputs": [],
   "source": [
    "def ordinal_encoding(y):\n",
    "    \"\"\"\n",
    "    Convert categorical data to numerical.\\n\n",
    "    Example: ['A','A','B','C','C'] -> [0,0,1,2,2].\\n\n",
    "    :param y: class labels. Correct shape (n,)\n",
    "    :return: numpy array with shape (n,)\n",
    "    \"\"\"\n",
    "    i = 0\n",
    "    unique_categories = np.unique(y)\n",
    "    for cat in unique_categories:\n",
    "        y[y == cat] = i\n",
    "        i += 1\n",
    "    return y.astype(int)"
   ]
  },
  {
   "cell_type": "code",
   "execution_count": 17,
   "metadata": {
    "collapsed": false,
    "jupyter": {
     "outputs_hidden": false
    },
    "pycharm": {
     "name": "#%%\n"
    }
   },
   "outputs": [],
   "source": [
    "train_labels = ordinal_encoding(train_labels)\n",
    "test_labels = ordinal_encoding(test_labels)"
   ]
  },
  {
   "cell_type": "code",
   "execution_count": 11,
   "metadata": {},
   "outputs": [],
   "source": [
    "train_data = np.loadtxt('2d.trn.dat', dtype=str)\n",
    "test_data = np.loadtxt('2d.tst.dat', dtype=str)\n",
    "\n",
    "train_data = train_data[1:]\n",
    "test_data = test_data[1:]\n",
    "\n",
    "(count, dim) = train_data.shape\n",
    "\n",
    "train_features = train_data[:, :-1].astype(float)\n",
    "train_labels = train_data[:, -1:].flatten()  # ['A','B','C' .... 'A']\n",
    "test_features = test_data[:, :-1].astype(float)\n",
    "test_labels = test_data[:, -1:].flatten()  # ['A','B','C' .... 'A']\n",
    "\n",
    "train_labels = ordinal_encoding(train_labels)\n",
    "test_labels = ordinal_encoding(test_labels)"
   ]
  },
  {
   "cell_type": "code",
   "execution_count": 21,
   "metadata": {},
   "outputs": [
    {
     "data": {
      "text/plain": [
       "array([2, 2, 1, ..., 2, 0, 2])"
      ]
     },
     "execution_count": 21,
     "metadata": {},
     "output_type": "execute_result"
    }
   ],
   "source": [
    "train_labels"
   ]
  },
  {
   "cell_type": "code",
   "execution_count": 20,
   "metadata": {},
   "outputs": [
    {
     "data": {
      "text/plain": [
       "array([[0., 0., 1.],\n",
       "       [0., 0., 1.],\n",
       "       [0., 1., 0.],\n",
       "       ...,\n",
       "       [0., 0., 1.],\n",
       "       [1., 0., 0.],\n",
       "       [0., 0., 1.]])"
      ]
     },
     "execution_count": 20,
     "metadata": {},
     "output_type": "execute_result"
    }
   ],
   "source": [
    "a = np.array([1, 0, 3])\n",
    "b = np.zeros((train_labels.size, train_labels.max()+1))\n",
    "b[np.arange(train_labels.size),train_labels] = 1\n",
    "b"
   ]
  },
  {
   "cell_type": "code",
   "execution_count": null,
   "metadata": {},
   "outputs": [],
   "source": []
  }
 ],
 "metadata": {
  "kernelspec": {
   "display_name": "Python 3 (ipykernel)",
   "language": "python",
   "name": "python3"
  },
  "language_info": {
   "codemirror_mode": {
    "name": "ipython",
    "version": 3
   },
   "file_extension": ".py",
   "mimetype": "text/x-python",
   "name": "python",
   "nbconvert_exporter": "python",
   "pygments_lexer": "ipython3",
   "version": "3.9.7"
  }
 },
 "nbformat": 4,
 "nbformat_minor": 4
}
