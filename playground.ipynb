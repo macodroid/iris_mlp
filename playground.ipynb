{
 "cells": [
  {
   "cell_type": "code",
   "execution_count": 10,
   "metadata": {
    "tags": []
   },
   "outputs": [],
   "source": [
    "import numpy as np"
   ]
  },
  {
   "cell_type": "code",
   "execution_count": 11,
   "metadata": {
    "collapsed": false,
    "jupyter": {
     "outputs_hidden": false
    },
    "pycharm": {
     "name": "#%%\n"
    }
   },
   "outputs": [],
   "source": [
    "train = np.loadtxt('2d.trn.dat', dtype=str)"
   ]
  },
  {
   "cell_type": "code",
   "execution_count": 12,
   "metadata": {},
   "outputs": [],
   "source": [
    "train = train[1:]"
   ]
  },
  {
   "cell_type": "code",
   "execution_count": 13,
   "metadata": {},
   "outputs": [],
   "source": [
    "features_train = train[:,:-1].astype(float)"
   ]
  },
  {
   "cell_type": "code",
   "execution_count": 14,
   "metadata": {},
   "outputs": [
    {
     "data": {
      "text/plain": "array([[ 9.31 , 48.289],\n       [13.364, 49.943],\n       [ 2.301, 75.125],\n       ...,\n       [17.546, 77.528],\n       [-1.829, 54.649],\n       [-4.023, 33.008]])"
     },
     "execution_count": 14,
     "metadata": {},
     "output_type": "execute_result"
    }
   ],
   "source": [
    "features_train"
   ]
  },
  {
   "cell_type": "code",
   "execution_count": 15,
   "metadata": {},
   "outputs": [],
   "source": [
    "target_train = train[:,-1:]"
   ]
  },
  {
   "cell_type": "code",
   "execution_count": 16,
   "metadata": {},
   "outputs": [
    {
     "data": {
      "text/plain": "array([['C'],\n       ['C'],\n       ['B'],\n       ...,\n       ['C'],\n       ['A'],\n       ['C']], dtype='<U7')"
     },
     "execution_count": 16,
     "metadata": {},
     "output_type": "execute_result"
    }
   ],
   "source": [
    "target_train"
   ]
  },
  {
   "cell_type": "code",
   "execution_count": 17,
   "outputs": [
    {
     "data": {
      "text/plain": "array([[ 9.31 , 48.289],\n       [13.364, 49.943],\n       [ 2.301, 75.125],\n       ...,\n       [17.546, 77.528],\n       [-1.829, 54.649],\n       [-4.023, 33.008]])"
     },
     "execution_count": 17,
     "metadata": {},
     "output_type": "execute_result"
    }
   ],
   "source": [
    "features_train"
   ],
   "metadata": {
    "collapsed": false,
    "pycharm": {
     "name": "#%%\n"
    }
   }
  },
  {
   "cell_type": "code",
   "execution_count": 23,
   "outputs": [],
   "source": [
    "import random\n",
    "\n",
    "\n",
    "def split_train_validation(X, y):\n",
    "    indices = np.arange(X.shape[0], dtype=int)\n",
    "    random.shuffle(indices)\n",
    "    split = int(0.8 * X.shape[0])\n",
    "    train_indices = indices[:split]\n",
    "    val_indices = indices[split:]\n",
    "\n",
    "    train_features = X[:, train_indices]\n",
    "    train_labels = y[:, train_indices]\n",
    "\n",
    "    val_features = X[:, val_indices]\n",
    "    val_labels = y[:,val_indices]\n",
    "    return train_features,train_labels,val_features,val_labels"
   ],
   "metadata": {
    "collapsed": false,
    "pycharm": {
     "name": "#%%\n"
    }
   }
  },
  {
   "cell_type": "code",
   "execution_count": 26,
   "outputs": [
    {
     "ename": "IndexError",
     "evalue": "index 5043 is out of bounds for axis 1 with size 2",
     "output_type": "error",
     "traceback": [
      "\u001B[1;31m---------------------------------------------------------------------------\u001B[0m",
      "\u001B[1;31mIndexError\u001B[0m                                Traceback (most recent call last)",
      "Input \u001B[1;32mIn [26]\u001B[0m, in \u001B[0;36m<cell line: 1>\u001B[1;34m()\u001B[0m\n\u001B[1;32m----> 1\u001B[0m train_features, train_labels, val_features, val_labels \u001B[38;5;241m=\u001B[39m \u001B[43msplit_train_validation\u001B[49m\u001B[43m(\u001B[49m\u001B[43mfeatures_train\u001B[49m\u001B[43m,\u001B[49m\u001B[43m \u001B[49m\u001B[43mtarget_train\u001B[49m\u001B[43m)\u001B[49m\n",
      "Input \u001B[1;32mIn [23]\u001B[0m, in \u001B[0;36msplit_train_validation\u001B[1;34m(X, y)\u001B[0m\n\u001B[0;32m      8\u001B[0m train_indices \u001B[38;5;241m=\u001B[39m indices[:split]\n\u001B[0;32m      9\u001B[0m val_indices \u001B[38;5;241m=\u001B[39m indices[split:]\n\u001B[1;32m---> 11\u001B[0m train_features \u001B[38;5;241m=\u001B[39m \u001B[43mX\u001B[49m\u001B[43m[\u001B[49m\u001B[43m:\u001B[49m\u001B[43m,\u001B[49m\u001B[43m \u001B[49m\u001B[43mtrain_indices\u001B[49m\u001B[43m]\u001B[49m\n\u001B[0;32m     12\u001B[0m train_labels \u001B[38;5;241m=\u001B[39m y[train_indices]\n\u001B[0;32m     14\u001B[0m val_features \u001B[38;5;241m=\u001B[39m X[:, val_indices]\n",
      "\u001B[1;31mIndexError\u001B[0m: index 5043 is out of bounds for axis 1 with size 2"
     ]
    }
   ],
   "source": [
    "train_features, train_labels, val_features, val_labels = split_train_validation(features_train, target_train)"
   ],
   "metadata": {
    "collapsed": false,
    "pycharm": {
     "name": "#%%\n"
    }
   }
  },
  {
   "cell_type": "code",
   "execution_count": 24,
   "outputs": [],
   "source": [],
   "metadata": {
    "collapsed": false,
    "pycharm": {
     "name": "#%%\n"
    }
   }
  },
  {
   "cell_type": "code",
   "execution_count": null,
   "outputs": [],
   "source": [],
   "metadata": {
    "collapsed": false,
    "pycharm": {
     "name": "#%%\n"
    }
   }
  }
 ],
 "metadata": {
  "kernelspec": {
   "display_name": "Python 3 (ipykernel)",
   "language": "python",
   "name": "python3"
  },
  "language_info": {
   "codemirror_mode": {
    "name": "ipython",
    "version": 3
   },
   "file_extension": ".py",
   "mimetype": "text/x-python",
   "name": "python",
   "nbconvert_exporter": "python",
   "pygments_lexer": "ipython3",
   "version": "3.9.7"
  }
 },
 "nbformat": 4,
 "nbformat_minor": 4
}